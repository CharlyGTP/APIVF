{
  "nbformat": 4,
  "nbformat_minor": 0,
  "metadata": {
    "colab": {
      "provenance": [],
      "authorship_tag": "ABX9TyPgjmqA1L4vGnc5Ts5Kuhy4",
      "include_colab_link": true
    },
    "kernelspec": {
      "name": "python3",
      "display_name": "Python 3"
    },
    "language_info": {
      "name": "python"
    }
  },
  "cells": [
    {
      "cell_type": "markdown",
      "metadata": {
        "id": "view-in-github",
        "colab_type": "text"
      },
      "source": [
        "<a href=\"https://colab.research.google.com/github/CharlyGTP/APIVF/blob/main/GGWP.ipynb\" target=\"_parent\"><img src=\"https://colab.research.google.com/assets/colab-badge.svg\" alt=\"Open In Colab\"/></a>"
      ]
    },
    {
      "cell_type": "code",
      "execution_count": null,
      "metadata": {
        "colab": {
          "base_uri": "https://localhost:8080/"
        },
        "id": "QNM1dPMMD-yM",
        "outputId": "7b9008d3-d83b-45ef-91c5-84c4cdcc90f7"
      },
      "outputs": [
        {
          "output_type": "stream",
          "name": "stdout",
          "text": [
            "Error al obtener los datos de la API: 404\n"
          ]
        }
      ],
      "source": [
        "import requests\n",
        "import pandas as pd\n",
        "import json\n",
        "\n",
        "url_ngrok = \"https://6a3b-187-150-56-64.ngrok.io/ventas\"\n",
        "response = requests.get(url_ngrok)\n",
        "if response.status_code == 200:\n",
        "    contenido_json = response.text\n",
        "    datos = json.loads(contenido_json)\n",
        "    df = pd.DataFrame(datos)\n",
        "    df.to_excel(\"ventas.xlsx\", index=False)\n",
        "\n",
        "    print(\"Datos guardados en datos.xlsx\")\n",
        "else:\n",
        "    print(\"Error al obtener los datos de la API:\", response.status_code)\n"
      ]
    },
    {
      "cell_type": "code",
      "source": [
        "import requests\n",
        "import pandas as pd\n",
        "import json\n",
        "\n",
        "url_ngrok = \"https://6a3b-187-150-56-64.ngrok.io/productos\"\n",
        "response = requests.get(url_ngrok)\n",
        "if response.status_code == 200:\n",
        "    contenido_json = response.text\n",
        "    datos = json.loads(contenido_json)\n",
        "    df = pd.DataFrame(datos)\n",
        "    df.to_excel(\"productos.xlsx\", index=False)\n",
        "\n",
        "    print(\"Datos guardados en datos.xlsx\")\n",
        "else:\n",
        "    print(\"Error al obtener los datos de la API:\", response.status_code)\n"
      ],
      "metadata": {
        "colab": {
          "base_uri": "https://localhost:8080/"
        },
        "id": "r462GjpwqSTL",
        "outputId": "b82efaf2-c708-4adb-c938-56a6c445ff3b"
      },
      "execution_count": null,
      "outputs": [
        {
          "output_type": "stream",
          "name": "stdout",
          "text": [
            "Datos guardados en datos.xlsx\n"
          ]
        }
      ]
    },
    {
      "cell_type": "code",
      "source": [
        "import requests\n",
        "import pandas as pd\n",
        "import json\n",
        "\n",
        "url_ngrok = \" https://99ab-187-150-56-64.ngrok.io/usuarios\"\n",
        "response = requests.get(url_ngrok)\n",
        "if response.status_code == 200:\n",
        "    contenido_json = response.text\n",
        "    datos = json.loads(contenido_json)\n",
        "    df = pd.DataFrame(datos)\n",
        "    df.to_excel(\"usuarios.xlsx\", index=False)\n",
        "\n",
        "    print(\"Datos guardados en datos.xlsx\")\n",
        "else:\n",
        "    print(\"Error al obtener los datos de la API:\", response.status_code)\n"
      ],
      "metadata": {
        "colab": {
          "base_uri": "https://localhost:8080/"
        },
        "id": "rJZOCPPoqY6w",
        "outputId": "9cfb888d-43a4-4acf-f0cd-07b75bfdf2ab"
      },
      "execution_count": null,
      "outputs": [
        {
          "output_type": "stream",
          "name": "stdout",
          "text": [
            "Datos guardados en datos.xlsx\n"
          ]
        }
      ]
    },
    {
      "cell_type": "code",
      "source": [
        "import requests\n",
        "import pandas as pd\n",
        "import json\n",
        "\n",
        "url_ngrok = \"https://6a3b-187-150-56-64.ngrok.io/roles\"\n",
        "response = requests.get(url_ngrok)\n",
        "if response.status_code == 200:\n",
        "    contenido_json = response.text\n",
        "    datos = json.loads(contenido_json)\n",
        "    df = pd.DataFrame(datos)\n",
        "    df.to_excel(\"roles.xlsx\", index=False)\n",
        "\n",
        "    print(\"Datos guardados en datos.xlsx\")\n",
        "else:\n",
        "    print(\"Error al obtener los datos de la API:\", response.status_code)\n"
      ],
      "metadata": {
        "colab": {
          "base_uri": "https://localhost:8080/"
        },
        "id": "00LkGk_kqc-3",
        "outputId": "c378cb8a-7616-4c66-b790-d37a644ea4d7"
      },
      "execution_count": null,
      "outputs": [
        {
          "output_type": "stream",
          "name": "stdout",
          "text": [
            "Error al obtener los datos de la API: 404\n"
          ]
        }
      ]
    },
    {
      "cell_type": "code",
      "source": [
        "import requests\n",
        "import pandas as pd\n",
        "from collections import defaultdict\n",
        "from decimal import Decimal\n",
        "\n",
        "# URLs de las APIs\n",
        "url_api_ventas = 'https://3a01-187-150-56-64.ngrok.io/ventas'\n",
        "url_api_productos = 'https://3a01-187-150-56-64.ngrok.io/productos'\n",
        "\n",
        "# Realizar solicitudes a las APIs\n",
        "response_ventas = requests.get(url_api_ventas)\n",
        "response_productos = requests.get(url_api_productos)\n",
        "\n",
        "# Verificar el estado de las respuestas\n",
        "if response_ventas.status_code == 200 and response_productos.status_code == 200:\n",
        "    # Convertir las respuestas a JSON\n",
        "    data_ventas = response_ventas.json()\n",
        "    data_productos = response_productos.json()\n",
        "\n",
        "    # Crear DataFrames con los datos\n",
        "    df_ventas = pd.DataFrame(data_ventas)\n",
        "    df_productos = pd.DataFrame(data_productos)\n",
        "\n",
        "    # Inicializar una variable para almacenar la suma total de ventas\n",
        "    suma_total_ventas = Decimal(0)\n",
        "\n",
        "    # Supongamos que las API devuelven listas de ventas y productos con campos \"id_producto\", \"cantidad\" y \"precio\"\n",
        "    for venta in data_ventas:\n",
        "        id_producto = venta.get('id_producto', 0)\n",
        "        cantidad_venta = int(venta.get('cantidad', 0))\n",
        "        precio_producto = Decimal([producto['precio'] for producto in data_productos if producto['id_producto'] == id_producto][0])\n",
        "        total_venta = cantidad_venta * precio_producto\n",
        "\n",
        "        # Acumular la venta en la suma total\n",
        "        suma_total_ventas += total_venta\n",
        "\n",
        "    # Convertir el total de ventas a un número entero\n",
        "    suma_total_ventas = int(suma_total_ventas)\n",
        "\n",
        "    # Encontrar la categoría más vendida\n",
        "    id_categoria_mas_vendida = df_productos['id_producto'].value_counts().idxmax()\n",
        "    nombre_categoria_mas_vendida = df_productos.loc[df_productos['id_producto'] == id_categoria_mas_vendida, 'nombre_categoria'].values[0]\n",
        "\n",
        "    # Encontrar el producto más vendido\n",
        "    productos_vendidos = defaultdict(int)\n",
        "    for venta in data_ventas:\n",
        "        id_producto = venta['id_producto']\n",
        "        cantidad_vendida = venta['cantidad']\n",
        "        nombre_producto = df_productos.loc[df_productos['id_producto'] == id_producto, 'nombre_producto'].values[0]\n",
        "        productos_vendidos[nombre_producto] += cantidad_vendida\n",
        "\n",
        "    producto_mas_vendido = max(productos_vendidos, key=productos_vendidos.get)\n",
        "    cantidad_mas_vendida = productos_vendidos[producto_mas_vendido]\n",
        "\n",
        "    # Mostrar resultados\n",
        "    print(f'Ingreso total de todas las ventas: $ {suma_total_ventas} pesos')\n",
        "    print(\"Categoría más vendida:\", nombre_categoria_mas_vendida)\n",
        "    print(f'El producto más vendido es \"{producto_mas_vendido}\" con {cantidad_mas_vendida} unidades vendidas.')\n",
        "\n",
        "    # Guardar los resultados en un archivo CSV\n",
        "    resultados = {\n",
        "        'Ingreso Total': [suma_total_ventas],\n",
        "        'Categoría Más Vendida': [nombre_categoria_mas_vendida],\n",
        "        'Producto Más Vendido': [f'{producto_mas_vendido} ({cantidad_mas_vendida} unidades vendidas)']\n",
        "    }\n",
        "\n",
        "    df_resultados = pd.DataFrame(resultados)\n",
        "    df_resultados.to_csv('resultados_ventas.csv', index=False)\n",
        "else:\n",
        "    print(\"Error al obtener datos de las APIs\")\n"
      ],
      "metadata": {
        "colab": {
          "base_uri": "https://localhost:8080/"
        },
        "id": "7QeQaryf0yvp",
        "outputId": "74090a88-f087-4d24-9e83-ae099ebfaf5b"
      },
      "execution_count": null,
      "outputs": [
        {
          "output_type": "stream",
          "name": "stdout",
          "text": [
            "Ingreso total de todas las ventas: $ 40078 pesos\n",
            "Categoría más vendida: ropa\n",
            "El producto más vendido es \"espinilleras\" con 20 unidades vendidas.\n"
          ]
        }
      ]
    },
    {
      "cell_type": "code",
      "source": [
        "import requests\n",
        "import pandas as pd\n",
        "\n",
        "# URLs de las APIs\n",
        "url_api_ventas = 'https://3a01-187-150-56-64.ngrok.io/ventas'\n",
        "url_api_usuarios = 'https://3a01-187-150-56-64.ngrok.io/usuarios'\n",
        "\n",
        "# Hacer solicitudes a las APIs\n",
        "response_ventas = requests.get(url_api_ventas)\n",
        "response_usuarios = requests.get(url_api_usuarios)\n",
        "\n",
        "# Verificar el estado de las respuestas\n",
        "if response_ventas.status_code == 200 and response_usuarios.status_code == 200:\n",
        "    # Convertir las respuestas a JSON\n",
        "    data_ventas = response_ventas.json()\n",
        "    data_usuarios = response_usuarios.json()\n",
        "\n",
        "    # Crear DataFrames con los datos\n",
        "    df_ventas = pd.DataFrame(data_ventas)\n",
        "    df_usuarios = pd.DataFrame(data_usuarios)\n",
        "\n",
        "    # Encontrar el usuario que más ha gastado\n",
        "    usuario_mas_gastador = df_ventas.groupby('id_usuario')['cantidad'].sum().idxmax()\n",
        "\n",
        "    # Calcular el promedio de gasto por usuario\n",
        "    promedio_gasto_por_usuario = df_ventas.groupby('id_usuario')['cantidad'].mean().mean()\n",
        "\n",
        "    # Calcular cuántos productos compra un usuario en promedio\n",
        "    promedio_productos_por_usuario = df_ventas.groupby('id_usuario')['id_producto'].nunique().mean()\n",
        "\n",
        "    # Mostrar resultados\n",
        "    print(\"Usuario que más ha gastado:\", usuario_mas_gastador)\n",
        "    print(\"Promedio de gasto por usuario:\", promedio_gasto_por_usuario)\n",
        "    print(\"Cantidad promedio de productos comprados por usuario:\", promedio_productos_por_usuario)\n",
        "\n",
        "    # Guardar los resultados en un archivo Excel\n",
        "    resultados = {\n",
        "        'Usuario Más Gastador': [usuario_mas_gastador],\n",
        "        'Promedio Gasto por Usuario': [promedio_gasto_por_usuario],\n",
        "        'Promedio Productos por Usuario': [promedio_productos_por_usuario]\n",
        "    }\n",
        "\n",
        "    df_resultados = pd.DataFrame(resultados)\n",
        "    df_resultados.to_excel('resultados_usuarios.xlsx', index=False)\n",
        "else:\n",
        "    print(\"Error al obtener datos de las APIs\")\n"
      ],
      "metadata": {
        "colab": {
          "base_uri": "https://localhost:8080/"
        },
        "id": "T689NEzm1aCh",
        "outputId": "c1c7b6d0-3c3f-445e-bad3-d86b84c4cbcd"
      },
      "execution_count": null,
      "outputs": [
        {
          "output_type": "stream",
          "name": "stdout",
          "text": [
            "Usuario que más ha gastado: 6\n",
            "Promedio de gasto por usuario: 8.166666666666666\n",
            "Cantidad promedio de productos comprados por usuario: 1.0\n"
          ]
        }
      ]
    },
    {
      "cell_type": "code",
      "source": [
        "import requests\n",
        "import pandas as pd\n",
        "\n",
        "# URL de la API de productos\n",
        "url_api_productos = 'https://3a01-187-150-56-64.ngrok.io/productos'\n",
        "\n",
        "# Hacer solicitud a la API de productos\n",
        "response_productos = requests.get(url_api_productos)\n",
        "\n",
        "# Verificar el estado de la respuesta\n",
        "if response_productos.status_code == 200:\n",
        "    # Convertir la respuesta a JSON\n",
        "    data_productos = response_productos.json()\n",
        "\n",
        "    # Crear un DataFrame con los datos de productos\n",
        "    df_productos = pd.DataFrame(data_productos)\n",
        "\n",
        "    # Convertir la columna 'precio' a tipo numérico\n",
        "    df_productos['precio'] = df_productos['precio'].astype(float)\n",
        "\n",
        "    # Encontrar el producto más caro\n",
        "    producto_mas_caro = df_productos.loc[df_productos['precio'].idxmax()]['nombre_producto']\n",
        "\n",
        "    # Encontrar el producto más barato\n",
        "    producto_mas_barato = df_productos.loc[df_productos['precio'].idxmin()]['nombre_producto']\n",
        "\n",
        "    # Calcular el promedio de precios de los productos\n",
        "    promedio_precios = df_productos['precio'].mean()\n",
        "\n",
        "    # Mostrar resultados\n",
        "    print(\"Producto más caro:\", producto_mas_caro)\n",
        "    print(\"Producto más barato:\", producto_mas_barato)\n",
        "    print(\"Promedio de precios de los productos:\", promedio_precios)\n",
        "\n",
        "    # Guardar los resultados en un archivo Excel\n",
        "    resultados = {\n",
        "        'Producto Más Caro': [producto_mas_caro],\n",
        "        'Producto Más Barato': [producto_mas_barato],\n",
        "        'Promedio Precios de Productos': [promedio_precios]\n",
        "    }\n",
        "\n",
        "    df_resultados = pd.DataFrame(resultados)\n",
        "    df_resultados.to_excel('resultados_productos.xlsx', index=False)\n",
        "else:\n",
        "    print(\"Error al obtener datos de la API de productos\")"
      ],
      "metadata": {
        "colab": {
          "base_uri": "https://localhost:8080/"
        },
        "id": "uyA639Wz1kbs",
        "outputId": "e47e213f-ed29-47e7-f286-3a49ef18eeae"
      },
      "execution_count": null,
      "outputs": [
        {
          "output_type": "stream",
          "name": "stdout",
          "text": [
            "Producto más caro: espinilleras\n",
            "Producto más barato: short MMA\n",
            "Promedio de precios de los productos: 466.1666666666667\n"
          ]
        }
      ]
    },
    {
      "cell_type": "code",
      "source": [
        "import requests\n",
        "import pandas as pd\n",
        "\n",
        "# URLs de las APIs\n",
        "url_api_productos = 'https://3a01-187-150-56-64.ngrok.io/productos'\n",
        "\n",
        "# Hacer solicitud a la API de productos\n",
        "response_productos = requests.get(url_api_productos)\n",
        "\n",
        "# Verificar el estado de la respuesta\n",
        "if response_productos.status_code == 200:\n",
        "    # Convertir la respuesta a JSON\n",
        "    data_productos = response_productos.json()\n",
        "\n",
        "    # Crear un DataFrame con los datos de productos\n",
        "    df_productos = pd.DataFrame(data_productos)\n",
        "\n",
        "    # Calcular cuántos productos están actualmente en stock\n",
        "    productos_en_stock = df_productos['stock'].sum()\n",
        "\n",
        "    # Encontrar el producto con menos stock\n",
        "    producto_menos_stock = df_productos.loc[df_productos['stock'].idxmin(), 'nombre_producto']\n",
        "\n",
        "    # Manejar el caso de un nombre de producto nulo o vacío\n",
        "    if pd.isna(producto_menos_stock) or producto_menos_stock == \"\":\n",
        "        producto_menos_stock = \"N/A\"\n",
        "\n",
        "    # Calcular cuántos productos necesitan ser reabastecidos (stock bajo)\n",
        "    productos_stock_bajo = df_productos[df_productos['stock'] < 10]['stock'].count()\n",
        "\n",
        "    # Mostrar resultados\n",
        "    print(\"Cantidad de productos en stock:\", productos_en_stock)\n",
        "    print(\"Producto con menos stock:\", producto_menos_stock)\n",
        "    print(\"Cantidad de productos que necesitan ser reabastecidos (stock bajo):\", productos_stock_bajo)\n",
        "\n",
        "    # Guardar los resultados en un archivo Excel\n",
        "    resultados = {\n",
        "        'Productos en Stock': [productos_en_stock],\n",
        "        'Producto Menos Stock': [producto_menos_stock],\n",
        "        'Productos Stock Bajo': [productos_stock_bajo]\n",
        "    }\n",
        "\n",
        "    df_resultados = pd.DataFrame(resultados)\n",
        "    df_resultados.to_excel('resultados_inventario.xlsx', index=False)\n",
        "else:\n",
        "    print(\"Error al obtener datos de la API de productos\")\n"
      ],
      "metadata": {
        "colab": {
          "base_uri": "https://localhost:8080/"
        },
        "id": "BLLOQ-6g2EuN",
        "outputId": "3fd7a479-d09e-490b-f845-37ad02ddb63a"
      },
      "execution_count": null,
      "outputs": [
        {
          "output_type": "stream",
          "name": "stdout",
          "text": [
            "Cantidad de productos en stock: 72\n",
            "Producto con menos stock: N/A\n",
            "Cantidad de productos que necesitan ser reabastecidos (stock bajo): 2\n"
          ]
        }
      ]
    }
  ]
}